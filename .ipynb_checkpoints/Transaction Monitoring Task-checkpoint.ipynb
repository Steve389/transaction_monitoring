{
 "cells": [
  {
   "cell_type": "markdown",
   "id": "1f4f9526",
   "metadata": {},
   "source": [
    "# Transaction Monitoring Task"
   ]
  },
  {
   "cell_type": "markdown",
   "id": "ff087f11",
   "metadata": {},
   "source": [
    "## 1. Importing the packages and the dataset"
   ]
  },
  {
   "cell_type": "code",
   "execution_count": 13,
   "id": "1e928387",
   "metadata": {},
   "outputs": [],
   "source": [
    "import pandas as pd\n",
    "import numpy as np\n",
    "import openpyxl"
   ]
  },
  {
   "cell_type": "code",
   "execution_count": 14,
   "id": "b807df66",
   "metadata": {},
   "outputs": [],
   "source": [
    "df = pd.read_excel('Data for assignment.xlsx', sheet_name='after_all_missing_new')"
   ]
  },
  {
   "cell_type": "code",
   "execution_count": 15,
   "id": "629ad009",
   "metadata": {},
   "outputs": [
    {
     "data": {
      "text/html": [
       "<div>\n",
       "<style scoped>\n",
       "    .dataframe tbody tr th:only-of-type {\n",
       "        vertical-align: middle;\n",
       "    }\n",
       "\n",
       "    .dataframe tbody tr th {\n",
       "        vertical-align: top;\n",
       "    }\n",
       "\n",
       "    .dataframe thead th {\n",
       "        text-align: right;\n",
       "    }\n",
       "</style>\n",
       "<table border=\"1\" class=\"dataframe\">\n",
       "  <thead>\n",
       "    <tr style=\"text-align: right;\">\n",
       "      <th></th>\n",
       "      <th>customer_id</th>\n",
       "      <th>credit_debit</th>\n",
       "      <th>amount</th>\n",
       "      <th>CPCC</th>\n",
       "      <th>product_type</th>\n",
       "    </tr>\n",
       "  </thead>\n",
       "  <tbody>\n",
       "    <tr>\n",
       "      <th>0</th>\n",
       "      <td>7972</td>\n",
       "      <td>Credit</td>\n",
       "      <td>4763.0</td>\n",
       "      <td>FI</td>\n",
       "      <td>A1</td>\n",
       "    </tr>\n",
       "    <tr>\n",
       "      <th>1</th>\n",
       "      <td>2735</td>\n",
       "      <td>Credit</td>\n",
       "      <td>5713.0</td>\n",
       "      <td>DK</td>\n",
       "      <td>A3</td>\n",
       "    </tr>\n",
       "    <tr>\n",
       "      <th>2</th>\n",
       "      <td>9534</td>\n",
       "      <td>Debit</td>\n",
       "      <td>6072.0</td>\n",
       "      <td>FI</td>\n",
       "      <td>A3</td>\n",
       "    </tr>\n",
       "    <tr>\n",
       "      <th>3</th>\n",
       "      <td>3091</td>\n",
       "      <td>Credit</td>\n",
       "      <td>6297.0</td>\n",
       "      <td>DK</td>\n",
       "      <td>A2</td>\n",
       "    </tr>\n",
       "    <tr>\n",
       "      <th>4</th>\n",
       "      <td>5547</td>\n",
       "      <td>Credit</td>\n",
       "      <td>5574.0</td>\n",
       "      <td>FI</td>\n",
       "      <td>A2</td>\n",
       "    </tr>\n",
       "    <tr>\n",
       "      <th>...</th>\n",
       "      <td>...</td>\n",
       "      <td>...</td>\n",
       "      <td>...</td>\n",
       "      <td>...</td>\n",
       "      <td>...</td>\n",
       "    </tr>\n",
       "    <tr>\n",
       "      <th>160686</th>\n",
       "      <td>7503</td>\n",
       "      <td>Debit</td>\n",
       "      <td>5570.0</td>\n",
       "      <td>FI</td>\n",
       "      <td>A1</td>\n",
       "    </tr>\n",
       "    <tr>\n",
       "      <th>160687</th>\n",
       "      <td>9539</td>\n",
       "      <td>Credit</td>\n",
       "      <td>4049.0</td>\n",
       "      <td>FI</td>\n",
       "      <td>A2</td>\n",
       "    </tr>\n",
       "    <tr>\n",
       "      <th>160688</th>\n",
       "      <td>4175</td>\n",
       "      <td>Debit</td>\n",
       "      <td>4997.0</td>\n",
       "      <td>SE</td>\n",
       "      <td>A2</td>\n",
       "    </tr>\n",
       "    <tr>\n",
       "      <th>160689</th>\n",
       "      <td>8500</td>\n",
       "      <td>Credit</td>\n",
       "      <td>1950.0</td>\n",
       "      <td>DK</td>\n",
       "      <td>A2</td>\n",
       "    </tr>\n",
       "    <tr>\n",
       "      <th>160690</th>\n",
       "      <td>2877</td>\n",
       "      <td>Debit</td>\n",
       "      <td>4602.0</td>\n",
       "      <td>SE</td>\n",
       "      <td>A3</td>\n",
       "    </tr>\n",
       "  </tbody>\n",
       "</table>\n",
       "<p>160691 rows × 5 columns</p>\n",
       "</div>"
      ],
      "text/plain": [
       "        customer_id credit_debit  amount CPCC product_type\n",
       "0              7972       Credit  4763.0   FI           A1\n",
       "1              2735       Credit  5713.0   DK           A3\n",
       "2              9534        Debit  6072.0   FI           A3\n",
       "3              3091       Credit  6297.0   DK           A2\n",
       "4              5547       Credit  5574.0   FI           A2\n",
       "...             ...          ...     ...  ...          ...\n",
       "160686         7503        Debit  5570.0   FI           A1\n",
       "160687         9539       Credit  4049.0   FI           A2\n",
       "160688         4175        Debit  4997.0   SE           A2\n",
       "160689         8500       Credit  1950.0   DK           A2\n",
       "160690         2877        Debit  4602.0   SE           A3\n",
       "\n",
       "[160691 rows x 5 columns]"
      ]
     },
     "execution_count": 15,
     "metadata": {},
     "output_type": "execute_result"
    }
   ],
   "source": [
    "df"
   ]
  },
  {
   "cell_type": "markdown",
   "id": "efe8e140",
   "metadata": {},
   "source": [
    "## 2. Segmentation per product type"
   ]
  },
  {
   "cell_type": "markdown",
   "id": "205744a2",
   "metadata": {},
   "source": [
    " First, I will divide customer transactions based on product type"
   ]
  },
  {
   "cell_type": "code",
   "execution_count": 16,
   "id": "9622a296",
   "metadata": {},
   "outputs": [],
   "source": [
    "df_wire = df[df['product_type']=='A1']\n",
    "df_cheque = df[df['product_type']=='A2']\n",
    "df_cash = df[df['product_type']=='A3']"
   ]
  },
  {
   "cell_type": "markdown",
   "id": "538f4ea0",
   "metadata": {},
   "source": [
    " Then, I will compare the total number of unique customers to the unique customer per product type. "
   ]
  },
  {
   "cell_type": "code",
   "execution_count": 17,
   "id": "1f6412ac",
   "metadata": {
    "scrolled": true
   },
   "outputs": [
    {
     "name": "stdout",
     "output_type": "stream",
     "text": [
      "10000\n",
      "9977\n",
      "9981\n",
      "9976\n"
     ]
    }
   ],
   "source": [
    "total_unique_customers = df.customer_id.unique()\n",
    "wire_unique_customers = df_wire.customer_id.unique()\n",
    "cheque_unique_customers = df_cheque.customer_id.unique()\n",
    "cash_unique_customers = df_cash.customer_id.unique()\n",
    "\n",
    "print(len(total_unique_customers))\n",
    "print(len(wire_unique_customers))\n",
    "print(len(cheque_unique_customers))\n",
    "print(len(cash_unique_customers))"
   ]
  },
  {
   "cell_type": "markdown",
   "id": "73aa8af8",
   "metadata": {},
   "source": [
    "These results show that the majority of customers have made transactions across all product types. As a result, switching between transaction types in the same month does not seem like an unusual activity. \n",
    "To double check the previous results, I will also count the number of customers that are present in all the product type dataframes(wire_cheque_cash_customers)."
   ]
  },
  {
   "cell_type": "code",
   "execution_count": 18,
   "id": "11d8fea2",
   "metadata": {},
   "outputs": [
    {
     "name": "stdout",
     "output_type": "stream",
     "text": [
      "9934\n"
     ]
    }
   ],
   "source": [
    "from functools import reduce \n",
    "\n",
    "wire_cheque_cash_customers = reduce(np.intersect1d, [df_wire.customer_id, df_cheque.customer_id, df_cash.customer_id])\n",
    "\n",
    "print(len(wire_cheque_cash_customers))"
   ]
  },
  {
   "cell_type": "markdown",
   "id": "3190fad5",
   "metadata": {},
   "source": [
    "9934 customers out of 10000 have made transactions across all product types. That confirms that this type of activity seems to be the common case.\n",
    "But what about those 66 customers that are left out? The fact that they haven't switched between all three transaction types doesn't exclude the possibility of anomalous or suspicious behavior. Maybe some of them only used one type and then suddenly switched to a different one. Let's try to answer this question in the next steps."
   ]
  },
  {
   "cell_type": "markdown",
   "id": "d06bcf97",
   "metadata": {},
   "source": [
    "First I will define a function to find unique customer ids across all 3 transaction  types."
   ]
  },
  {
   "cell_type": "code",
   "execution_count": 19,
   "id": "aea6a41b",
   "metadata": {},
   "outputs": [],
   "source": [
    "def find_unique_values (list1, list2, list3):\n",
    "    list1_or_list2 = set(list1) ^ set(list2) \n",
    "    list1_or_list2_and_list3 = set(list1_or_list2).intersection(list3)\n",
    "    list1_or_list2_or_list3 = set(list1_or_list2) ^ set(list1_or_list2_and_list3)\n",
    "    return list1_or_list2_or_list3\n"
   ]
  },
  {
   "cell_type": "code",
   "execution_count": 20,
   "id": "e7b32fa7",
   "metadata": {},
   "outputs": [
    {
     "data": {
      "text/plain": [
       "set()"
      ]
     },
     "execution_count": 20,
     "metadata": {},
     "output_type": "execute_result"
    }
   ],
   "source": [
    "find_unique_values(wire_unique_customers, cheque_unique_customers,cash_unique_customers)"
   ]
  },
  {
   "cell_type": "markdown",
   "id": "4ee389e3",
   "metadata": {},
   "source": [
    "The function doesn't return any value, so that means that every customer has used at least two transaction methods. Now let's see how many customers have used either  one method or the other one, but never both. We will try all the combinations."
   ]
  },
  {
   "cell_type": "code",
   "execution_count": 21,
   "id": "586d2109",
   "metadata": {},
   "outputs": [],
   "source": [
    "wire_or_cheque = set(wire_unique_customers) ^ set(cheque_unique_customers)\n",
    "\n",
    "wire_or_cash = set(wire_unique_customers) ^ set(cash_unique_customers)\n",
    "\n",
    "cheque_or_cash = set(cheque_unique_customers) ^ set(cash_unique_customers)\n",
    "                                                                                                  "
   ]
  },
  {
   "cell_type": "code",
   "execution_count": 22,
   "id": "6733b731",
   "metadata": {},
   "outputs": [
    {
     "name": "stdout",
     "output_type": "stream",
     "text": [
      "42\n",
      "47\n",
      "43\n"
     ]
    }
   ],
   "source": [
    "print(len(wire_or_cheque))\n",
    "print(len(wire_or_cash))\n",
    "print(len(cheque_or_cash))"
   ]
  },
  {
   "cell_type": "markdown",
   "id": "196b57cb",
   "metadata": {},
   "source": [
    "Ok, so now I know that less than 50 customers haven't used at least one transaction method. In the following script, I want to find out which customers have used one transaction type less than 4 times. Why? Because this might be proof of unusual behavior. Let's see what I find out!"
   ]
  },
  {
   "cell_type": "code",
   "execution_count": 23,
   "id": "6c025d7a",
   "metadata": {},
   "outputs": [],
   "source": [
    "wire_or_cheque_df = df[df['customer_id'].isin(wire_or_cheque)]\n",
    "wire_or_cash_df = df[df['customer_id'].isin(wire_or_cash)]\n",
    "cheque_or_cash_df = df[df['customer_id'].isin(cheque_or_cash)]"
   ]
  },
  {
   "cell_type": "code",
   "execution_count": 120,
   "id": "b2e87cc5",
   "metadata": {},
   "outputs": [
    {
     "data": {
      "text/plain": [
       "customer_id  product_type\n",
       "1223         A2              2\n",
       "             A3              2\n",
       "1374                         1\n",
       "1467         A1              2\n",
       "             A3              2\n",
       "3090                         1\n",
       "4143                         1\n",
       "5244                         1\n",
       "5936         A3              2\n",
       "8180                         1\n",
       "8244         A3              2\n",
       "8816         A2              1\n",
       "             A3              1\n",
       "Name: product_type, dtype: int64"
      ]
     },
     "execution_count": 120,
     "metadata": {},
     "output_type": "execute_result"
    }
   ],
   "source": [
    "wire_or_cheque_df.groupby('customer_id')['product_type'].value_counts().loc[lambda x : x<4]"
   ]
  },
  {
   "cell_type": "code",
   "execution_count": 121,
   "id": "07019326",
   "metadata": {},
   "outputs": [
    {
     "data": {
      "text/plain": [
       "customer_id  product_type\n",
       "41           A2              2\n",
       "117                          1\n",
       "1223         A2              2\n",
       "             A3              2\n",
       "1374                         1\n",
       "1987                         1\n",
       "3090                         1\n",
       "3400         A1              3\n",
       "3692         A1              3\n",
       "4052                         1\n",
       "4272         A2              3\n",
       "4822                         2\n",
       "4975                         1\n",
       "5244                         1\n",
       "5936         A3              2\n",
       "8643         A1              2\n",
       "8816         A2              1\n",
       "             A3              1\n",
       "Name: product_type, dtype: int64"
      ]
     },
     "execution_count": 121,
     "metadata": {},
     "output_type": "execute_result"
    }
   ],
   "source": [
    "wire_or_cash_df.groupby('customer_id')['product_type'].value_counts().loc[lambda x : x<4]"
   ]
  },
  {
   "cell_type": "code",
   "execution_count": 122,
   "id": "92ab7ac4",
   "metadata": {},
   "outputs": [
    {
     "data": {
      "text/plain": [
       "customer_id  product_type\n",
       "41           A2              2\n",
       "117                          1\n",
       "1467         A1              2\n",
       "             A3              2\n",
       "1987                         1\n",
       "3400         A1              3\n",
       "3692         A1              3\n",
       "4052                         1\n",
       "4143                         1\n",
       "4272         A2              3\n",
       "4822                         2\n",
       "4975                         1\n",
       "8180                         1\n",
       "8244         A3              2\n",
       "8643         A1              2\n",
       "Name: product_type, dtype: int64"
      ]
     },
     "execution_count": 122,
     "metadata": {},
     "output_type": "execute_result"
    }
   ],
   "source": [
    "cheque_or_cash_df.groupby('customer_id')['product_type'].value_counts().loc[lambda x : x<4]"
   ]
  },
  {
   "cell_type": "markdown",
   "id": "9f62f23a",
   "metadata": {},
   "source": [
    "Since there are not too many results, I will manually insert the unique values into a list. This will be useful in the following steps."
   ]
  },
  {
   "cell_type": "code",
   "execution_count": 123,
   "id": "3ff3e7d5",
   "metadata": {},
   "outputs": [],
   "source": [
    "less_than_four_trans = [1223, 1467, 5936, 8244, 8816, 41, 3400, 3692, 4272, 8643]"
   ]
  },
  {
   "cell_type": "markdown",
   "id": "c40a59b9",
   "metadata": {},
   "source": [
    "After checking closely the transaction history for each one of these ids, the majority of these customers show a similar pattern: a relative high number of transaction per product type and then an unusual switch to a different form of payment."
   ]
  },
  {
   "cell_type": "markdown",
   "id": "a45634c8",
   "metadata": {},
   "source": [
    "## 3. Segmentation per countries"
   ]
  },
  {
   "cell_type": "markdown",
   "id": "2fb15949",
   "metadata": {},
   "source": [
    "Now I will do customer segmentation based on countries and see if I can detect some unusual trends in this area. I want to find how many customers made only one transaction in one country and more than 10 in another one. Why? This could be a signal for anomalous transactional behavior (for example, a person might be receiving constant amounts of money from one country and then transferring it to a different one)."
   ]
  },
  {
   "cell_type": "code",
   "execution_count": 46,
   "id": "ac1dc979",
   "metadata": {},
   "outputs": [],
   "source": [
    "one_trans_per_country = df.groupby('customer_id')['CPCC'].value_counts().loc[lambda x : x<2]\n",
    "one_trans_per_country = one_trans_per_country.to_frame()\n",
    "one_trans_per_country = one_trans_per_country.reset_index(level=0)"
   ]
  },
  {
   "cell_type": "code",
   "execution_count": 47,
   "id": "fa9623fc",
   "metadata": {},
   "outputs": [],
   "source": [
    "tenplus_trans_per_country = df.groupby('customer_id')['CPCC'].value_counts().loc[lambda x : x>10]\n",
    "tenplus_trans_per_country = tenplus_trans_per_country.to_frame()\n",
    "tenplus_trans_per_country = tenplus_trans_per_country.reset_index(level=0)"
   ]
  },
  {
   "cell_type": "code",
   "execution_count": 70,
   "id": "b119a42e",
   "metadata": {},
   "outputs": [
    {
     "data": {
      "text/plain": [
       "array([ 159,  304,  308,  478,  515,  541,  627,  696,  771,  882, 1280,\n",
       "       1285, 1470, 1495, 1502, 1503, 1649, 1711, 1785, 2102, 2399, 3041,\n",
       "       3053, 3100, 3359, 3487, 3532, 3762, 4188, 4316, 4327, 4423, 4463,\n",
       "       4779, 4823, 5042, 5126, 5173, 5568, 5616, 5783, 6013, 6189, 6212,\n",
       "       6540, 6621, 7060, 7080, 7135, 7221, 7377, 7395, 8096, 8157, 8252,\n",
       "       8403, 9286, 9397])"
      ]
     },
     "execution_count": 70,
     "metadata": {},
     "output_type": "execute_result"
    }
   ],
   "source": [
    "one_and_tenplus_trans = reduce(np.intersect1d, [one_trans_per_country.customer_id, tenplus_trans_per_country.customer_id])\n",
    "one_and_tenplus_trans"
   ]
  },
  {
   "cell_type": "markdown",
   "id": "f65caf06",
   "metadata": {},
   "source": [
    "These are the ids of people who, during one month, made more than 10 transactions to the same country, and then, made one single transaction to a different one."
   ]
  },
  {
   "cell_type": "markdown",
   "id": "3f858354",
   "metadata": {},
   "source": [
    "## 4. Segmentation per credit/debit"
   ]
  },
  {
   "cell_type": "markdown",
   "id": "7a2509e6",
   "metadata": {},
   "source": [
    "What about credit and debit? This column might give us some interesting insights as well. In the following script, I will go through these steps:\n",
    "\n",
    "- Group customers that only made only 1 credit or debit transaction per country.\n",
    "- Group customers that made more than 10 credit or debit transactions per country.\n",
    "- Find out if there are any customers who made only 1 debit transaction to one country, but more than 10 credit transactions to a different one (and viceversa)\n",
    "- Find out if any of the results match with any of the results from country segmentation.\n",
    "- Find out if any of the results match with any of the results from product type segmentation.\n",
    "\n",
    "This is to find out if for example, any customer received constant amounts of money from one country (more than 10 debit transactions) and then sent it to another country through one single movement (1 credit transaction)."
   ]
  },
  {
   "cell_type": "code",
   "execution_count": 105,
   "id": "25d2516e",
   "metadata": {},
   "outputs": [],
   "source": [
    "df_credit = df[df['credit_debit']== 'Credit']\n",
    "df_debit = df[df['credit_debit']== 'Debit']\n",
    "\n",
    "one_cd_per_country = df_credit.groupby('customer_id')['CPCC'].value_counts().loc[lambda x : x<2]\n",
    "one_cd_per_country = one_cd_per_country.to_frame()\n",
    "one_cd_per_country = one_cd_per_country.reset_index(level=0)\n",
    "\n",
    "\n",
    "one_db_per_country = df_debit.groupby('customer_id')['CPCC'].value_counts().loc[lambda x : x<2]\n",
    "one_db_per_country = one_db_per_country.to_frame()\n",
    "one_db_per_country = one_db_per_country.reset_index(level=0)\n",
    "\n",
    "\n",
    "\n",
    "tenplus_cd_per_country = df_credit.groupby('customer_id')['CPCC'].value_counts().loc[lambda x : x>10]\n",
    "tenplus_cd_per_country = tenplus_cd_per_country.to_frame()\n",
    "tenplus_cd_per_country = tenplus_cd_per_country.reset_index(level=0)\n",
    "\n",
    "\n",
    "\n",
    "tenplus_db_per_country = df_debit.groupby('customer_id')['CPCC'].value_counts().loc[lambda x : x>10]\n",
    "tenplus_db_per_country = tenplus_db_per_country.to_frame()\n",
    "tenplus_db_per_country = tenplus_db_per_country.reset_index(level=0)\n",
    "\n",
    "\n",
    "\n",
    "\n",
    "one_cd_tenplus_db = reduce(np.intersect1d, [one_cd_per_country.customer_id, tenplus_db_per_country.customer_id])\n",
    "one_db_tenplus_cd = reduce(np.intersect1d, [one_db_per_country.customer_id, tenplus_cd_per_country.customer_id])"
   ]
  },
  {
   "cell_type": "code",
   "execution_count": 106,
   "id": "f6a78f9a",
   "metadata": {},
   "outputs": [
    {
     "data": {
      "text/plain": [
       "array([], dtype=int64)"
      ]
     },
     "execution_count": 106,
     "metadata": {},
     "output_type": "execute_result"
    }
   ],
   "source": [
    "reduce(np.intersect1d, [one_and_tenplus_trans,one_cd_tenplus_db ])"
   ]
  },
  {
   "cell_type": "code",
   "execution_count": 107,
   "id": "a21227f2",
   "metadata": {},
   "outputs": [
    {
     "data": {
      "text/plain": [
       "array([], dtype=int64)"
      ]
     },
     "execution_count": 107,
     "metadata": {},
     "output_type": "execute_result"
    }
   ],
   "source": [
    "reduce(np.intersect1d, [one_and_tenplus_trans,one_db_tenplus_cd ])"
   ]
  },
  {
   "cell_type": "code",
   "execution_count": 113,
   "id": "aa6829a0",
   "metadata": {},
   "outputs": [
    {
     "data": {
      "text/plain": [
       "array([], dtype=int64)"
      ]
     },
     "execution_count": 113,
     "metadata": {},
     "output_type": "execute_result"
    }
   ],
   "source": [
    "reduce(np.intersect1d, [one_and_tenplus_trans,tenplus_cd_per_country.customer_id])"
   ]
  },
  {
   "cell_type": "code",
   "execution_count": 114,
   "id": "8ad935b6",
   "metadata": {},
   "outputs": [
    {
     "data": {
      "text/plain": [
       "array([], dtype=int64)"
      ]
     },
     "execution_count": 114,
     "metadata": {},
     "output_type": "execute_result"
    }
   ],
   "source": [
    "reduce(np.intersect1d, [one_and_tenplus_trans,tenplus_db_per_country.customer_id])"
   ]
  },
  {
   "cell_type": "code",
   "execution_count": 127,
   "id": "66dacc38",
   "metadata": {},
   "outputs": [
    {
     "data": {
      "text/plain": [
       "array([], dtype=int64)"
      ]
     },
     "execution_count": 127,
     "metadata": {},
     "output_type": "execute_result"
    }
   ],
   "source": [
    "reduce(np.intersect1d, [less_than_four_trans,tenplus_cd_per_country.customer_id])"
   ]
  },
  {
   "cell_type": "code",
   "execution_count": 128,
   "id": "dd2680cc",
   "metadata": {},
   "outputs": [
    {
     "data": {
      "text/plain": [
       "array([], dtype=int64)"
      ]
     },
     "execution_count": 128,
     "metadata": {},
     "output_type": "execute_result"
    }
   ],
   "source": [
    "reduce(np.intersect1d, [less_than_four_trans,tenplus_db_per_country.customer_id])"
   ]
  },
  {
   "cell_type": "markdown",
   "id": "822fc3bc",
   "metadata": {},
   "source": [
    "The results from the credit/debit don't seem to match with the results from the country segmentation. In another words, among the customers who made more than 10 transactions to one country and only 1 to a different country, there is no one who also happens to have more than 10 credit transactions and only debit transaction (or viceversa).\n",
    "However, the credit/debit segmentation is not worthless; we can't still try to answer some questions:\n",
    "\n",
    "- How many customers made many credit transactions and only one debit transaction (or viceversa)?\n",
    "- Are there any customers who have a high number of transactions per country and also a high number of credit or debit transactions?\n",
    "\n"
   ]
  },
  {
   "cell_type": "code",
   "execution_count": 111,
   "id": "669cdeff",
   "metadata": {},
   "outputs": [
    {
     "data": {
      "text/plain": [
       "array([4905])"
      ]
     },
     "execution_count": 111,
     "metadata": {},
     "output_type": "execute_result"
    }
   ],
   "source": [
    "one_db_tenplus_cd"
   ]
  },
  {
   "cell_type": "code",
   "execution_count": 115,
   "id": "43fba4a2",
   "metadata": {},
   "outputs": [
    {
     "data": {
      "text/plain": [
       "array([9986])"
      ]
     },
     "execution_count": 115,
     "metadata": {},
     "output_type": "execute_result"
    }
   ],
   "source": [
    "one_cd_tenplus_db"
   ]
  },
  {
   "cell_type": "code",
   "execution_count": 124,
   "id": "92a9fc4a",
   "metadata": {},
   "outputs": [
    {
     "data": {
      "text/plain": [
       "array([4905, 5860])"
      ]
     },
     "execution_count": 124,
     "metadata": {},
     "output_type": "execute_result"
    }
   ],
   "source": [
    "reduce(np.intersect1d, [tenplus_trans_per_country.customer_id, tenplus_cd_per_country.customer_id])"
   ]
  },
  {
   "cell_type": "markdown",
   "id": "29012327",
   "metadata": {},
   "source": [
    "## 5. Segmentation per amount"
   ]
  },
  {
   "cell_type": "markdown",
   "id": "4ab691c3",
   "metadata": {},
   "source": [
    "How many customers made transactions higher than a certain threshold? \n",
    "Through the following function, I will isolate the customers that paid or received more than 15 thousand."
   ]
  },
  {
   "cell_type": "code",
   "execution_count": 28,
   "id": "ce0ad299",
   "metadata": {},
   "outputs": [],
   "source": [
    "def find_high_amount_customer_ids (df,col1, col2):\n",
    "    \n",
    "    df_high_amount = df[df[col1]> 15000.0]\n",
    "    \n",
    "    return df_high_amount[col2].unique()"
   ]
  },
  {
   "cell_type": "code",
   "execution_count": 29,
   "id": "b1924e1a",
   "metadata": {},
   "outputs": [
    {
     "data": {
      "text/plain": [
       "array([ 661, 4109,  793, 1409, 7407, 2845, 1531, 3452, 1519])"
      ]
     },
     "execution_count": 29,
     "metadata": {},
     "output_type": "execute_result"
    }
   ],
   "source": [
    "find_high_amount_customer_ids(df_wire,'amount','customer_id')"
   ]
  },
  {
   "cell_type": "code",
   "execution_count": 30,
   "id": "63300f1d",
   "metadata": {},
   "outputs": [
    {
     "data": {
      "text/plain": [
       "array([1071, 4078, 4046, 1791, 7134,  699,  509, 1275,  964, 4459, 1411,\n",
       "       3288,  856])"
      ]
     },
     "execution_count": 30,
     "metadata": {},
     "output_type": "execute_result"
    }
   ],
   "source": [
    "find_high_amount_customer_ids(df_cheque,'amount','customer_id')"
   ]
  },
  {
   "cell_type": "code",
   "execution_count": 31,
   "id": "5db4e540",
   "metadata": {},
   "outputs": [
    {
     "data": {
      "text/plain": [
       "array([ 659, 3041,  664,  529,  674,  668, 1828,  570, 7212, 4070])"
      ]
     },
     "execution_count": 31,
     "metadata": {},
     "output_type": "execute_result"
    }
   ],
   "source": [
    "find_high_amount_customer_ids(df_cash,'amount','customer_id')"
   ]
  },
  {
   "cell_type": "code",
   "execution_count": 126,
   "id": "5da272bc",
   "metadata": {},
   "outputs": [],
   "source": [
    "high_amount_trans = find_high_amount_customer_ids(df,'amount','customer_id')"
   ]
  },
  {
   "cell_type": "markdown",
   "id": "1cf13c82",
   "metadata": {},
   "source": [
    "Now that I have the ids of people who made high amount transactions, I can try to answer more questions: \n",
    "- Are there matches between high amount and the results from the other segmentations?"
   ]
  },
  {
   "cell_type": "code",
   "execution_count": 129,
   "id": "efd1a017",
   "metadata": {},
   "outputs": [
    {
     "data": {
      "text/plain": [
       "array([], dtype=int64)"
      ]
     },
     "execution_count": 129,
     "metadata": {},
     "output_type": "execute_result"
    }
   ],
   "source": [
    "reduce(np.intersect1d, [high_amount_trans,less_than_four_trans ])"
   ]
  },
  {
   "cell_type": "code",
   "execution_count": 130,
   "id": "266b0420",
   "metadata": {},
   "outputs": [
    {
     "data": {
      "text/plain": [
       "array([3041])"
      ]
     },
     "execution_count": 130,
     "metadata": {},
     "output_type": "execute_result"
    }
   ],
   "source": [
    "reduce(np.intersect1d, [high_amount_trans,tenplus_trans_per_country.customer_id])"
   ]
  },
  {
   "cell_type": "code",
   "execution_count": 131,
   "id": "fa6641b0",
   "metadata": {},
   "outputs": [
    {
     "data": {
      "text/plain": [
       "array([3041])"
      ]
     },
     "execution_count": 131,
     "metadata": {},
     "output_type": "execute_result"
    }
   ],
   "source": [
    "reduce(np.intersect1d, [high_amount_trans,one_and_tenplus_trans])"
   ]
  },
  {
   "cell_type": "code",
   "execution_count": 132,
   "id": "2cf68c33",
   "metadata": {},
   "outputs": [
    {
     "data": {
      "text/plain": [
       "array([], dtype=int64)"
      ]
     },
     "execution_count": 132,
     "metadata": {},
     "output_type": "execute_result"
    }
   ],
   "source": [
    "reduce(np.intersect1d, [high_amount_trans,one_cd_tenplus_db])"
   ]
  },
  {
   "cell_type": "code",
   "execution_count": 133,
   "id": "68a95af5",
   "metadata": {},
   "outputs": [
    {
     "data": {
      "text/plain": [
       "array([], dtype=int64)"
      ]
     },
     "execution_count": 133,
     "metadata": {},
     "output_type": "execute_result"
    }
   ],
   "source": [
    "reduce(np.intersect1d, [high_amount_trans, tenplus_cd_per_country.customer_id])"
   ]
  },
  {
   "cell_type": "code",
   "execution_count": 134,
   "id": "d2d86032",
   "metadata": {},
   "outputs": [
    {
     "data": {
      "text/plain": [
       "array([], dtype=int64)"
      ]
     },
     "execution_count": 134,
     "metadata": {},
     "output_type": "execute_result"
    }
   ],
   "source": [
    "reduce(np.intersect1d, [high_amount_trans, tenplus_db_per_country.customer_id])"
   ]
  },
  {
   "cell_type": "markdown",
   "id": "e1ea6d93",
   "metadata": {},
   "source": [
    "Only one match was found: the customer id 3041 made a high amount transaction and also made one transaction with one country plus more than 10 with a different one."
   ]
  },
  {
   "cell_type": "markdown",
   "id": "99db9ae2",
   "metadata": {},
   "source": [
    "Another helpful metric can be to identify which customers have done a really high number of monthly transactions. This would also count as unusual transactional behavior."
   ]
  },
  {
   "cell_type": "code",
   "execution_count": 138,
   "id": "8addf710",
   "metadata": {},
   "outputs": [
    {
     "data": {
      "text/plain": [
       "5860    1123\n",
       "695       29\n",
       "895       28\n",
       "899       28\n",
       "581       28\n",
       "        ... \n",
       "8623      11\n",
       "9224      11\n",
       "9073      11\n",
       "7694      11\n",
       "4826      11\n",
       "Name: customer_id, Length: 9861, dtype: int64"
      ]
     },
     "execution_count": 138,
     "metadata": {},
     "output_type": "execute_result"
    }
   ],
   "source": [
    "df['customer_id'].value_counts().loc[lambda x : x>10]"
   ]
  },
  {
   "cell_type": "markdown",
   "id": "644e2c94",
   "metadata": {},
   "source": [
    "Out of 10000 customers, nearly all of them (9861) have made more than 10 transactions. This doesn't seem anomalous. Let's heighten the threshold to 25."
   ]
  },
  {
   "cell_type": "code",
   "execution_count": 158,
   "id": "f174d205",
   "metadata": {},
   "outputs": [
    {
     "data": {
      "text/plain": [
       "5860    1123\n",
       "695       29\n",
       "895       28\n",
       "899       28\n",
       "581       28\n",
       "866       27\n",
       "923       27\n",
       "682       27\n",
       "933       27\n",
       "635       27\n",
       "563       27\n",
       "943       27\n",
       "538       26\n",
       "643       26\n",
       "883       26\n",
       "4070      26\n",
       "514       26\n",
       "534       26\n",
       "932       26\n",
       "981       26\n",
       "Name: customer_id, dtype: int64"
      ]
     },
     "execution_count": 158,
     "metadata": {},
     "output_type": "execute_result"
    }
   ],
   "source": [
    "df['customer_id'].value_counts().loc[lambda x : x>25]\n"
   ]
  },
  {
   "cell_type": "markdown",
   "id": "cd3980ea",
   "metadata": {},
   "source": [
    "More than 25 transactions per month seems something worth looking into, since only 20 customers fall into this list. While all the others remain in the range between 26 and 29, customer_id 5860 is the only really big outlier, with more than 1000 transactions per month. That is definitely suspicious.\n"
   ]
  },
  {
   "cell_type": "markdown",
   "id": "1bac5f34",
   "metadata": {},
   "source": [
    "## 6. High risk countries"
   ]
  },
  {
   "cell_type": "markdown",
   "id": "14ae4411",
   "metadata": {},
   "source": [
    "First, I will import the excel slide with the high risk country information."
   ]
  },
  {
   "cell_type": "code",
   "execution_count": 159,
   "id": "aa7800be",
   "metadata": {},
   "outputs": [
    {
     "data": {
      "text/html": [
       "<div>\n",
       "<style scoped>\n",
       "    .dataframe tbody tr th:only-of-type {\n",
       "        vertical-align: middle;\n",
       "    }\n",
       "\n",
       "    .dataframe tbody tr th {\n",
       "        vertical-align: top;\n",
       "    }\n",
       "\n",
       "    .dataframe thead th {\n",
       "        text-align: right;\n",
       "    }\n",
       "</style>\n",
       "<table border=\"1\" class=\"dataframe\">\n",
       "  <thead>\n",
       "    <tr style=\"text-align: right;\">\n",
       "      <th></th>\n",
       "      <th>country_abb</th>\n",
       "      <th>risk</th>\n",
       "    </tr>\n",
       "  </thead>\n",
       "  <tbody>\n",
       "    <tr>\n",
       "      <th>0</th>\n",
       "      <td>AC</td>\n",
       "      <td>N</td>\n",
       "    </tr>\n",
       "    <tr>\n",
       "      <th>1</th>\n",
       "      <td>AD</td>\n",
       "      <td>N</td>\n",
       "    </tr>\n",
       "    <tr>\n",
       "      <th>2</th>\n",
       "      <td>AE</td>\n",
       "      <td>N</td>\n",
       "    </tr>\n",
       "    <tr>\n",
       "      <th>3</th>\n",
       "      <td>AF</td>\n",
       "      <td>N</td>\n",
       "    </tr>\n",
       "    <tr>\n",
       "      <th>4</th>\n",
       "      <td>AG</td>\n",
       "      <td>N</td>\n",
       "    </tr>\n",
       "    <tr>\n",
       "      <th>...</th>\n",
       "      <td>...</td>\n",
       "      <td>...</td>\n",
       "    </tr>\n",
       "    <tr>\n",
       "      <th>259</th>\n",
       "      <td>YE</td>\n",
       "      <td>N</td>\n",
       "    </tr>\n",
       "    <tr>\n",
       "      <th>260</th>\n",
       "      <td>YT</td>\n",
       "      <td>Y</td>\n",
       "    </tr>\n",
       "    <tr>\n",
       "      <th>261</th>\n",
       "      <td>ZA</td>\n",
       "      <td>N</td>\n",
       "    </tr>\n",
       "    <tr>\n",
       "      <th>262</th>\n",
       "      <td>ZM</td>\n",
       "      <td>N</td>\n",
       "    </tr>\n",
       "    <tr>\n",
       "      <th>263</th>\n",
       "      <td>ZW</td>\n",
       "      <td>N</td>\n",
       "    </tr>\n",
       "  </tbody>\n",
       "</table>\n",
       "<p>264 rows × 2 columns</p>\n",
       "</div>"
      ],
      "text/plain": [
       "    country_abb risk\n",
       "0            AC    N\n",
       "1            AD    N\n",
       "2            AE    N\n",
       "3            AF    N\n",
       "4            AG    N\n",
       "..          ...  ...\n",
       "259          YE    N\n",
       "260          YT    Y\n",
       "261          ZA    N\n",
       "262          ZM    N\n",
       "263          ZW    N\n",
       "\n",
       "[264 rows x 2 columns]"
      ]
     },
     "execution_count": 159,
     "metadata": {},
     "output_type": "execute_result"
    }
   ],
   "source": [
    "df2 = pd.read_excel('Data for assignment.xlsx', sheet_name='country_risk')\n",
    "df2"
   ]
  },
  {
   "cell_type": "markdown",
   "id": "eb8e7caa",
   "metadata": {},
   "source": [
    "After this, I will find out which are the high risk countries, create a list with these countries and then subset all the corresponding rows from the original dataset. "
   ]
  },
  {
   "cell_type": "code",
   "execution_count": 169,
   "id": "d6e0765d",
   "metadata": {},
   "outputs": [
    {
     "data": {
      "text/html": [
       "<div>\n",
       "<style scoped>\n",
       "    .dataframe tbody tr th:only-of-type {\n",
       "        vertical-align: middle;\n",
       "    }\n",
       "\n",
       "    .dataframe tbody tr th {\n",
       "        vertical-align: top;\n",
       "    }\n",
       "\n",
       "    .dataframe thead th {\n",
       "        text-align: right;\n",
       "    }\n",
       "</style>\n",
       "<table border=\"1\" class=\"dataframe\">\n",
       "  <thead>\n",
       "    <tr style=\"text-align: right;\">\n",
       "      <th></th>\n",
       "      <th>customer_id</th>\n",
       "      <th>credit_debit</th>\n",
       "      <th>amount</th>\n",
       "      <th>CPCC</th>\n",
       "      <th>product_type</th>\n",
       "    </tr>\n",
       "  </thead>\n",
       "  <tbody>\n",
       "    <tr>\n",
       "      <th>99</th>\n",
       "      <td>640</td>\n",
       "      <td>Debit</td>\n",
       "      <td>2211.0</td>\n",
       "      <td>YT</td>\n",
       "      <td>A1</td>\n",
       "    </tr>\n",
       "    <tr>\n",
       "      <th>119</th>\n",
       "      <td>1351</td>\n",
       "      <td>Credit</td>\n",
       "      <td>7318.0</td>\n",
       "      <td>PF</td>\n",
       "      <td>A2</td>\n",
       "    </tr>\n",
       "    <tr>\n",
       "      <th>132</th>\n",
       "      <td>1894</td>\n",
       "      <td>Credit</td>\n",
       "      <td>3232.0</td>\n",
       "      <td>YT</td>\n",
       "      <td>A2</td>\n",
       "    </tr>\n",
       "    <tr>\n",
       "      <th>166</th>\n",
       "      <td>916</td>\n",
       "      <td>Debit</td>\n",
       "      <td>607.0</td>\n",
       "      <td>TL</td>\n",
       "      <td>A2</td>\n",
       "    </tr>\n",
       "    <tr>\n",
       "      <th>215</th>\n",
       "      <td>1180</td>\n",
       "      <td>Credit</td>\n",
       "      <td>2125.0</td>\n",
       "      <td>HE</td>\n",
       "      <td>A2</td>\n",
       "    </tr>\n",
       "    <tr>\n",
       "      <th>...</th>\n",
       "      <td>...</td>\n",
       "      <td>...</td>\n",
       "      <td>...</td>\n",
       "      <td>...</td>\n",
       "      <td>...</td>\n",
       "    </tr>\n",
       "    <tr>\n",
       "      <th>160567</th>\n",
       "      <td>625</td>\n",
       "      <td>Credit</td>\n",
       "      <td>8167.0</td>\n",
       "      <td>IS</td>\n",
       "      <td>A3</td>\n",
       "    </tr>\n",
       "    <tr>\n",
       "      <th>160585</th>\n",
       "      <td>1991</td>\n",
       "      <td>Debit</td>\n",
       "      <td>1819.0</td>\n",
       "      <td>HE</td>\n",
       "      <td>A2</td>\n",
       "    </tr>\n",
       "    <tr>\n",
       "      <th>160589</th>\n",
       "      <td>1998</td>\n",
       "      <td>Debit</td>\n",
       "      <td>7436.0</td>\n",
       "      <td>IS</td>\n",
       "      <td>A1</td>\n",
       "    </tr>\n",
       "    <tr>\n",
       "      <th>160607</th>\n",
       "      <td>581</td>\n",
       "      <td>Credit</td>\n",
       "      <td>742.0</td>\n",
       "      <td>PF</td>\n",
       "      <td>A2</td>\n",
       "    </tr>\n",
       "    <tr>\n",
       "      <th>160663</th>\n",
       "      <td>3787</td>\n",
       "      <td>Credit</td>\n",
       "      <td>1478.0</td>\n",
       "      <td>RO</td>\n",
       "      <td>A2</td>\n",
       "    </tr>\n",
       "  </tbody>\n",
       "</table>\n",
       "<p>3352 rows × 5 columns</p>\n",
       "</div>"
      ],
      "text/plain": [
       "        customer_id credit_debit  amount CPCC product_type\n",
       "99              640        Debit  2211.0   YT           A1\n",
       "119            1351       Credit  7318.0   PF           A2\n",
       "132            1894       Credit  3232.0   YT           A2\n",
       "166             916        Debit   607.0   TL           A2\n",
       "215            1180       Credit  2125.0   HE           A2\n",
       "...             ...          ...     ...  ...          ...\n",
       "160567          625       Credit  8167.0   IS           A3\n",
       "160585         1991        Debit  1819.0   HE           A2\n",
       "160589         1998        Debit  7436.0   IS           A1\n",
       "160607          581       Credit   742.0   PF           A2\n",
       "160663         3787       Credit  1478.0   RO           A2\n",
       "\n",
       "[3352 rows x 5 columns]"
      ]
     },
     "execution_count": 169,
     "metadata": {},
     "output_type": "execute_result"
    }
   ],
   "source": [
    "risk_countries = df2[df2['risk']== 'Y'].country_abb.array\n",
    "df_risk_countries = df[df['CPCC'].isin(risk_countries)]\n",
    "df_risk_countries"
   ]
  },
  {
   "cell_type": "markdown",
   "id": "01ffaf0f",
   "metadata": {},
   "source": [
    "Now I can define a monthly transaction threshold and see which customers would trigger a warning."
   ]
  },
  {
   "cell_type": "code",
   "execution_count": 166,
   "id": "dda5f4fc",
   "metadata": {},
   "outputs": [
    {
     "data": {
      "text/plain": [
       "array([ 659, 1746, 1520, 1626, 1493, 1058, 1761, 1808, 1289, 1696, 1964,\n",
       "       1329, 1064,  588, 1067, 1409, 1365, 1402, 1627, 1577, 1589,  918,\n",
       "        824, 1161, 1430,  609, 1117, 1549,  600, 1789,  570, 1377, 1226,\n",
       "       1173, 1672, 1175, 1921, 1250, 1877,  534, 1071,  691, 1434, 1999,\n",
       "       1339, 1667, 1719, 1521, 1782,  689, 1468, 1225, 1972, 1183, 1248,\n",
       "       1821, 1608, 1284, 1509,  643,  695, 1894,  892, 1918,  647,  803,\n",
       "       1314, 1777, 1454, 1896, 1174,  806, 1662,  572,  580, 1232, 1315,\n",
       "       1749, 1823, 1815, 1612,  631, 1412,  665, 1988, 1827,  694,  648,\n",
       "       1881,  542, 1096, 1291,  802,  611,  879, 1552, 1163,  962, 1006,\n",
       "        622,  874, 1048, 1295, 1361, 1712,  947,  838, 2845, 1660, 1393,\n",
       "       1864,  668, 1900, 1322,  540, 1581,  850, 1978,  558, 1837,  598,\n",
       "       1767, 1701, 1559, 1041,  561, 1033, 1757, 1009, 1149, 1922, 1119,\n",
       "       1868, 1915, 1357, 1395, 1555,  590,  866,  500, 1825, 1210, 1479,\n",
       "       1828, 1171,  678, 1396, 1791, 1436, 1255, 1081, 1531, 1170, 1389,\n",
       "        683, 1993, 1074, 1673,  601, 1012, 1139,  624,  576, 1554,  804,\n",
       "        677, 1958,  841, 1543,  872, 1386,  699, 1423,  525,  686,  509,\n",
       "       1275, 1753, 1945,  644, 1806, 1787, 1729, 1407,  585, 1651, 1308,\n",
       "       1156, 1817, 1032, 1060,  531, 1676,  612,  682, 1700,  933,  827,\n",
       "        664, 1024, 1205, 1301,  633, 1680,  537, 1421, 1411, 1501, 1681,\n",
       "       1792, 1216, 1450,  981, 1417, 1732, 1370,  675,  511, 1963, 1179,\n",
       "       1265, 1570, 1775, 1312, 1536, 1708, 1425,  987, 1850, 1858, 1960,\n",
       "        650, 1107,  696, 1128,  618,  673,  893, 1857,  594, 1387, 1306,\n",
       "       1269,  645, 1324, 1360, 1923, 1611,  698,  821,  932, 1630, 1980,\n",
       "        920, 1464,  641, 1774,  906, 1372])"
      ]
     },
     "execution_count": 166,
     "metadata": {},
     "output_type": "execute_result"
    }
   ],
   "source": [
    "monthly_trans_threshold = 10000.0\n",
    "trans_over_thresh = df_risk_countries[df_risk_countries['amount']>= monthly_trans_threshold]\n",
    "trans_over_thresh.customer_id.unique()"
   ]
  }
 ],
 "metadata": {
  "kernelspec": {
   "display_name": "tm_task",
   "language": "python",
   "name": "tm_task"
  },
  "language_info": {
   "codemirror_mode": {
    "name": "ipython",
    "version": 3
   },
   "file_extension": ".py",
   "mimetype": "text/x-python",
   "name": "python",
   "nbconvert_exporter": "python",
   "pygments_lexer": "ipython3",
   "version": "3.9.13"
  }
 },
 "nbformat": 4,
 "nbformat_minor": 5
}
